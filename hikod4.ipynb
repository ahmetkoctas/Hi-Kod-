{
 "cells": [
  {
   "cell_type": "markdown",
   "id": "30cc04bf-7d91-4dec-bcd6-ff59928a0104",
   "metadata": {},
   "source": [
    "• Kullanıcıdan pi değeri ve yarıçap bilgisi alarak dairenin alanını hesaplayan bir fonksiyon oluşturulur."
   ]
  },
  {
   "cell_type": "code",
   "execution_count": null,
   "id": "cebf1625-60cc-4ee8-b8e2-0264424011cd",
   "metadata": {},
   "outputs": [],
   "source": [
    "def dairealanı(pi, yaricap):\n",
    "    alan = pi*(yaricap**2)\n",
    "    return alan\n",
    "\n",
    "pi= float(input(\"pi değeri giriniz:\"))\n",
    "yaricap= float(input(\"yarıçap değerini giriniz:\"))\n",
    "\n",
    "alan= dairealanı(pi, yaricap)\n",
    "print (f\"dairenin alanı: {alan}\")"
   ]
  },
  {
   "cell_type": "markdown",
   "id": "f24c315f-25bf-4770-9c05-5ab5b23810b9",
   "metadata": {},
   "source": [
    "• Faktöriyel adında fonksiyon oluşturulur. Döngü kullanarak parametre olarak girilen sayının faktöriyeli hesaplanır. Format metodunu kullanılarak ekrana yazdırılır."
   ]
  },
  {
   "cell_type": "code",
   "execution_count": 28,
   "id": "d799b1e9-368d-491a-ad85-d423bd288647",
   "metadata": {},
   "outputs": [],
   "source": [
    "def Faktoriyel (parametre):\n",
    "    factorial = 1\n",
    "    k = parametre \n",
    "    while k > 0:\n",
    "        factorial = factorial * k\n",
    "        k = k - 1\n",
    "    return (str(parametre) + \" sayısının faktoriyeli {} sayısıdır.\".format(str(factorial)))"
   ]
  },
  {
   "cell_type": "code",
   "execution_count": 29,
   "id": "2bc7f667-9015-4ecc-b72c-5d79f51bead4",
   "metadata": {},
   "outputs": [
    {
     "data": {
      "text/plain": [
       "'5 sayısının faktoriyeli 120 sayısıdır.'"
      ]
     },
     "execution_count": 29,
     "metadata": {},
     "output_type": "execute_result"
    }
   ],
   "source": [
    "Faktoriyel(5)"
   ]
  },
  {
   "cell_type": "markdown",
   "id": "5d1663ed-f020-4642-8147-00eb0374bb61",
   "metadata": {},
   "source": [
    "BAŞKA ÇÖZÜM YOLU --->"
   ]
  },
  {
   "cell_type": "code",
   "execution_count": 32,
   "id": "59e16f29-eac8-46f5-832e-943684f10928",
   "metadata": {},
   "outputs": [
    {
     "name": "stdin",
     "output_type": "stream",
     "text": [
      "bir sayi giriniz:  6\n"
     ]
    },
    {
     "name": "stdout",
     "output_type": "stream",
     "text": [
      "Girilen sayının faktöriyeli: 720\n"
     ]
    }
   ],
   "source": [
    "def faktoriyel(sayi):\n",
    "    sonuc=1\n",
    "    for i in range(1, sayi+1):\n",
    "        sonuc *= i\n",
    "    return sonuc\n",
    "\n",
    "sayi= int(input(\"bir sayi giriniz: \"))\n",
    "\n",
    "print (\"Girilen sayının faktöriyeli: {}\". format (faktoriyel(sayi)))"
   ]
  },
  {
   "cell_type": "markdown",
   "id": "c6ae8942-caaf-46e7-b155-4644c23398d0",
   "metadata": {},
   "source": [
    "• Kişinin fonksiyona doğum yılını vererek kaç yaşında olduğunu hesaplayan bir fonksiyon oluşturun. "
   ]
  },
  {
   "cell_type": "code",
   "execution_count": 14,
   "id": "0fc589a1-a32b-4ec6-ae88-c908ced90d6e",
   "metadata": {},
   "outputs": [
    {
     "name": "stdin",
     "output_type": "stream",
     "text": [
      "Doğum yılınızı giriniz:  2004\n",
      "Mevcut yılı giriniz:  2024\n"
     ]
    },
    {
     "name": "stdout",
     "output_type": "stream",
     "text": [
      "Yaşınız: 20\n"
     ]
    }
   ],
   "source": [
    "def yashesabı(dogumyili, mevcutyil):\n",
    "    yas= mecvutyil-dogumyili\n",
    "    return yas\n",
    "\n",
    "dogumyili= int(input(\"Doğum yılınızı giriniz: \"))\n",
    "mevcutyil= int(input(\"Mevcut yılı giriniz: \"))\n",
    "\n",
    "print(\"Yaşınız: {}\".format(yashesabı(dogumyili, mevcutyil)))\n",
    "    "
   ]
  },
  {
   "cell_type": "markdown",
   "id": "21b1a7d4-6f09-4345-bb96-fe50bfd63f01",
   "metadata": {},
   "source": [
    "• Doğum yılı ve isim bilgisi verilen fonksiyon kişinin emekli olup olmadığını söylesin.(Kişi 65 yaşında ise emekli olur.) Burada yaş hesabını yukarıdaki örnekteki fonksiyonu kullanarak yapsın.(Yani fonksiyon içinde fonksiyon kullanmanızı istiyorum :)) Kişi 65 yaşında ya da daha fazlaysa \"Emekli oldunuz\" yanıtını, 65 yaşından küçükse emekliliğine kaç yıl kaldığını da hesaplayarak \"(isim) emekliliğine (yıl) kaldı.\" yanıtını versin."
   ]
  },
  {
   "cell_type": "code",
   "execution_count": 23,
   "id": "7b10840f-a75b-477a-84b1-1d40dbb0f87f",
   "metadata": {},
   "outputs": [
    {
     "name": "stdin",
     "output_type": "stream",
     "text": [
      "Doğum yılınızıı giriniz:  2004\n",
      "İsminizi giriniz:  ahmet\n",
      "Mevcut yılı giriniz:  2024\n"
     ]
    },
    {
     "name": "stdout",
     "output_type": "stream",
     "text": [
      "ahmet, emekliliğinize 45 yıl kaldı.\n"
     ]
    }
   ],
   "source": [
    "def yashesabi(dogumyili, mevcutyil):\n",
    "    yas= mecvutyil-dogumyili\n",
    "    return yas\n",
    "\n",
    "def emeklilik(dogumyili, isim, mevcutyil):\n",
    "    yas= yashesabi(dogumyili, mevcutyil)\n",
    "\n",
    "    if yas >= 65: \n",
    "        print (\"Emekli oldunuz.\")\n",
    "    else:\n",
    "        kalanyil= 65 - yas\n",
    "        print (f\"{isim}, emekliliğinize {kalanyil} yıl kaldı.\")\n",
    "\n",
    "dogumyili= int(input(\"Doğum yılınızıı giriniz: \"))\n",
    "isim= input(\"İsminizi giriniz: \")\n",
    "mevcutyil= int(input(\"Mevcut yılı giriniz: \"))\n",
    "\n",
    "emeklilik(dogumyili, isim, mevcutyil)"
   ]
  },
  {
   "cell_type": "code",
   "execution_count": null,
   "id": "a700145c-b51d-4908-9935-d5ae2b943a6c",
   "metadata": {},
   "outputs": [],
   "source": []
  }
 ],
 "metadata": {
  "kernelspec": {
   "display_name": "Python 3 (ipykernel)",
   "language": "python",
   "name": "python3"
  },
  "language_info": {
   "codemirror_mode": {
    "name": "ipython",
    "version": 3
   },
   "file_extension": ".py",
   "mimetype": "text/x-python",
   "name": "python",
   "nbconvert_exporter": "python",
   "pygments_lexer": "ipython3",
   "version": "3.12.4"
  }
 },
 "nbformat": 4,
 "nbformat_minor": 5
}
