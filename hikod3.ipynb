{
 "cells": [
  {
   "cell_type": "markdown",
   "id": "1d02c225-9e23-4804-a25f-39ab39f9b44c",
   "metadata": {},
   "source": [
    "Ödev-1: Kullanıcıdan maaş bilgisini istenir ve bu bilgiye göre maaşından ne kadar vergi kesileceğini hesaplanır.\r\n"
   ]
  },
  {
   "cell_type": "code",
   "execution_count": 6,
   "id": "69f67207-62da-45c4-84ba-2f8013a01447",
   "metadata": {},
   "outputs": [
    {
     "name": "stdin",
     "output_type": "stream",
     "text": [
      "Maaşınızı giriniz:  43000\n"
     ]
    },
    {
     "name": "stdout",
     "output_type": "stream",
     "text": [
      "Maaşınız: 43000 TL\n",
      "Vergi oranı: %25.0\n",
      "Kesilen vergi: 10750.0 TL\n",
      "Net maaşınız: 32250.0 TL\n"
     ]
    }
   ],
   "source": [
    "maas = int(input(\"Maaşınızı giriniz: \"))  \n",
    "if maas <= 10000:\n",
    "    vergi = 0.05  \n",
    "elif maas <= 25000:\n",
    "    vergi = 0.10  \n",
    "elif maas <= 45000:\n",
    "    vergi = 0.25  \n",
    "else:\n",
    "    vergi = 0.30 \n",
    "\n",
    "\n",
    "netvergi = maas * vergi  \n",
    "netmaas = maas - netvergi  \n",
    "\n",
    "\n",
    "print(f\"Maaşınız: {maas} TL\")\n",
    "print(f\"Vergi oranı: %{vergi * 100}\")\n",
    "print(f\"Kesilen vergi: {netvergi} TL\")\n",
    "print(f\"Net maaşınız: {netmaas} TL)"
   ]
  },
  {
   "cell_type": "markdown",
   "id": "2c0c600d-2421-4c65-a8dd-7e99ae8a2280",
   "metadata": {},
   "source": [
    "Ödev-2: Kullanıcıdan kullanıcı adı ve şifre oluşturmasını istenir. Şifrenin uzunluğu altı haneye ulaşmışsa hesabınız oluşturuldu mesajı alınır, altı haneden azsa altı haneli şifre oluşturması gerektiğinin mesajı alınır. "
   ]
  },
  {
   "cell_type": "code",
   "execution_count": 8,
   "id": "1a254c9f-d886-470e-9be1-5350173af774",
   "metadata": {},
   "outputs": [
    {
     "name": "stdin",
     "output_type": "stream",
     "text": [
      "Kullanıcı adı giriniz: kodluyoruz\n",
      "Şifre belirleyiniz: hi-kod\n"
     ]
    },
    {
     "name": "stdout",
     "output_type": "stream",
     "text": [
      "Hesabınız oluşturuldu!\n"
     ]
    }
   ],
   "source": [
    "kullaniciadi= input(\"Kullanıcı adı giriniz:\")\n",
    "sifre= input(\"Şifre belirleyiniz:\")\n",
    "if len(sifre)>=6: \n",
    "    print (\"Hesabınız oluşturuldu!\")\n",
    "else :\n",
    "    print (\"Şifre en az 6 haneli olmalıdır.\")\n"
   ]
  },
  {
   "cell_type": "markdown",
   "id": "0cf161f7-88b4-4a38-bb5f-a0d40a7f4535",
   "metadata": {},
   "source": [
    "Ödev-3: Bir önceki örnek geliştirilir.\r\n",
    "\r\n",
    "\r\n",
    " Kullanıcı girdiği şifre 5 ve 10 hane arasında olmak zorunda. \r\n",
    " Eğer bu koşula uyuyorsa \"Hesabınız oluşturuldu.\" mesajı alır. \r\n",
    " Koşulu sağlamıyorsa \"Lütfen girdiniz şifre 5 haneden az 10 haneden fazla olmasın!\" uyarısı alır. \r\n",
    " Bunu oluştururken kullanıcı istediğimiz şartlarda şifre oluşturana kadar sormaya devam eder \r\n",
    "\n"
   ]
  },
  {
   "cell_type": "code",
   "execution_count": 12,
   "id": "08d542a7-ebb8-4504-87ed-9990812b0603",
   "metadata": {},
   "outputs": [
    {
     "name": "stdin",
     "output_type": "stream",
     "text": [
      "Kullanıcı adı giriniz: kodluyoruz\n",
      "Şifre belirleyiniz: hikodatolye\n"
     ]
    },
    {
     "name": "stdout",
     "output_type": "stream",
     "text": [
      "Şifre 5 ve 10 hane arasında olmak zorunda!!\n"
     ]
    },
    {
     "name": "stdin",
     "output_type": "stream",
     "text": [
      "Kullanıcı adı giriniz: kodluyoruz\n",
      "Şifre belirleyiniz: hi-kod\n"
     ]
    },
    {
     "name": "stdout",
     "output_type": "stream",
     "text": [
      "Hesabınız oluşturuldu!\n"
     ]
    }
   ],
   "source": [
    "while True :\n",
    "    kullaniciadi= input(\"Kullanıcı adı giriniz:\")\n",
    "    sifre= input(\"Şifre belirleyiniz:\")\n",
    "    if 5<= len(sifre) <=10:\n",
    "            print (\"Hesabınız oluşturuldu!\")\n",
    "            break\n",
    "    else :\n",
    "        print (\"Şifre 5 ve 10 hane arasında olmak zorunda!!\") \n"
   ]
  },
  {
   "cell_type": "markdown",
   "id": "92e4b942-1fcb-46f0-99a5-38e3cbb15db9",
   "metadata": {},
   "source": [
    "Ödev-4: Kullanıcıdan isim ve şifre isteyeceğiz ve şifre girişi için üç hak verilir.\r\n",
    "\r\n",
    "\r\n",
    " Eğer önceden tanımlı şifre ile kullanıcıdan gelen şifre aynıysa \"Giriş yapıldı.\" yazar. \r\n",
    " Şifre girişi yanlışsa \"Yanlış şifre girildi!\" uyarısı verilsin ve üç yanlış denemede program biter. \r\n",
    " Tercihe göre kalan hak bilgisi verilir. "
   ]
  },
  {
   "cell_type": "code",
   "execution_count": 25,
   "id": "405ae944-455b-4fc7-9520-5acc97018b2f",
   "metadata": {},
   "outputs": [
    {
     "name": "stdin",
     "output_type": "stream",
     "text": [
      "İsminizi giriniz: ahmet\n",
      "Şifre giriniz. kodluyoruz\n"
     ]
    },
    {
     "name": "stdout",
     "output_type": "stream",
     "text": [
      "Yanlış şifre girildi! Kalan hak: 2\n"
     ]
    },
    {
     "name": "stdin",
     "output_type": "stream",
     "text": [
      "Şifre giriniz. atolye\n"
     ]
    },
    {
     "name": "stdout",
     "output_type": "stream",
     "text": [
      "Yanlış şifre girildi! Kalan hak: 1\n"
     ]
    },
    {
     "name": "stdin",
     "output_type": "stream",
     "text": [
      "Şifre giriniz. hikod\n"
     ]
    },
    {
     "name": "stdout",
     "output_type": "stream",
     "text": [
      "Giriş yapıldı!\n"
     ]
    }
   ],
   "source": [
    "belirlisifre= \"hikod\"\n",
    "isim = input(\"İsminizi giriniz:\") \n",
    "hak=3\n",
    "while hak>0:\n",
    "    sifre= input(\"Şifre giriniz.\")\n",
    "    if sifre==belirlisifre:\n",
    "        print (\"Giriş yapıldı!\")\n",
    "        break\n",
    "    else: \n",
    "        hak-=1\n",
    "        if hak>0 :\n",
    "            print (f\"Yanlış şifre girildi! Kalan hak: {hak}\")\n",
    "        else :\n",
    "            print (\"Üç kez yanlış şifre girdiniz. Program sonlandırılıyor.\")    "
   ]
  },
  {
   "cell_type": "code",
   "execution_count": null,
   "id": "5b3cd15f-fecf-482e-9c05-7104b22b7931",
   "metadata": {},
   "outputs": [],
   "source": []
  }
 ],
 "metadata": {
  "kernelspec": {
   "display_name": "Python 3 (ipykernel)",
   "language": "python",
   "name": "python3"
  },
  "language_info": {
   "codemirror_mode": {
    "name": "ipython",
    "version": 3
   },
   "file_extension": ".py",
   "mimetype": "text/x-python",
   "name": "python",
   "nbconvert_exporter": "python",
   "pygments_lexer": "ipython3",
   "version": "3.12.4"
  }
 },
 "nbformat": 4,
 "nbformat_minor": 5
}
