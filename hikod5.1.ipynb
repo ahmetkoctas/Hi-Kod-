{
 "cells": [
  {
   "cell_type": "markdown",
   "id": "af533d9f-bc8b-458b-b59f-d73c80245e34",
   "metadata": {},
   "source": [
    " Sayılardan oluşan bir boyutlu array oluşturulur. Arrayi oluştururken sayıların veri tipini integer olarak belirtilir. Oluşturulan arrayin boyut, eleman sayısı bilgilerine bakılır. "
   ]
  },
  {
   "cell_type": "code",
   "execution_count": 1,
   "id": "2be0a4ee-0b14-465f-8f78-86a06b8f891b",
   "metadata": {},
   "outputs": [],
   "source": [
    "import numpy as np "
   ]
  },
  {
   "cell_type": "code",
   "execution_count": 4,
   "id": "17e93d57-480c-4223-8dde-484db08d7f49",
   "metadata": {},
   "outputs": [
    {
     "data": {
      "text/plain": [
       "array([1, 2, 3, 4, 5])"
      ]
     },
     "execution_count": 4,
     "metadata": {},
     "output_type": "execute_result"
    }
   ],
   "source": [
    "array1 = np.array([1, 2, 3.4, 4.9, 5],dtype=int)\n",
    "array1"
   ]
  },
  {
   "cell_type": "code",
   "execution_count": 5,
   "id": "68944b09-57c4-433a-b8f5-81afa7e0986b",
   "metadata": {},
   "outputs": [
    {
     "data": {
      "text/plain": [
       "5"
      ]
     },
     "execution_count": 5,
     "metadata": {},
     "output_type": "execute_result"
    }
   ],
   "source": [
    "#eleman sayısı\n",
    "array1.size"
   ]
  },
  {
   "cell_type": "code",
   "execution_count": 6,
   "id": "79899cc3-27a1-4832-84c2-e9616e7c06d9",
   "metadata": {},
   "outputs": [
    {
     "data": {
      "text/plain": [
       "1"
      ]
     },
     "execution_count": 6,
     "metadata": {},
     "output_type": "execute_result"
    }
   ],
   "source": [
    "#boyut\n",
    "array1.ndim"
   ]
  },
  {
   "cell_type": "markdown",
   "id": "9ada7cd8-6a78-407e-b80b-f2dc7730e7ab",
   "metadata": {},
   "source": [
    " İki ve üç boyutlu arrayler oluşturulur. Bu arraylerin boyut, eleman sayısı, satır, sütun bilgilerine ulaşılır. Arrayler üzerinde indexleme ve dilimleme(slicing) işlemi yapılır. "
   ]
  },
  {
   "cell_type": "code",
   "execution_count": 8,
   "id": "4d7cd308-3ea6-4c5b-a06a-8f4be0faba82",
   "metadata": {},
   "outputs": [],
   "source": [
    "array2 = np.array([[1,2,3,4,5],[6,7,8,9,10]])"
   ]
  },
  {
   "cell_type": "code",
   "execution_count": 10,
   "id": "2c333e63-5cb5-42fd-a12a-461d4e1f8f30",
   "metadata": {},
   "outputs": [
    {
     "data": {
      "text/plain": [
       "10"
      ]
     },
     "execution_count": 10,
     "metadata": {},
     "output_type": "execute_result"
    }
   ],
   "source": [
    "array2.size"
   ]
  },
  {
   "cell_type": "code",
   "execution_count": 11,
   "id": "4def42d8-c253-40cc-9df1-c99b16227eba",
   "metadata": {},
   "outputs": [
    {
     "data": {
      "text/plain": [
       "2"
      ]
     },
     "execution_count": 11,
     "metadata": {},
     "output_type": "execute_result"
    }
   ],
   "source": [
    "array2.ndim"
   ]
  },
  {
   "cell_type": "code",
   "execution_count": 18,
   "id": "b957d6f4-1ec7-45f8-82d2-419d9c06bbaf",
   "metadata": {},
   "outputs": [
    {
     "name": "stdout",
     "output_type": "stream",
     "text": [
      "[[ 1  2  3  4  5]\n",
      " [ 6  7  8  9 10]]\n"
     ]
    }
   ],
   "source": [
    "print(array2)"
   ]
  },
  {
   "cell_type": "code",
   "execution_count": 12,
   "id": "45075529-efb5-4251-a324-9c0d4c849a05",
   "metadata": {},
   "outputs": [
    {
     "data": {
      "text/plain": [
       "(2, 5)"
      ]
     },
     "execution_count": 12,
     "metadata": {},
     "output_type": "execute_result"
    }
   ],
   "source": [
    "array2.shape"
   ]
  },
  {
   "cell_type": "code",
   "execution_count": 64,
   "id": "0a0dfcd3-f627-4e27-8fcf-0b8cfa50cc3a",
   "metadata": {},
   "outputs": [],
   "source": [
    "array3 = np.array([[[1,2,3],[4,5,6],[7,8,9],[10,11,12]]])"
   ]
  },
  {
   "cell_type": "code",
   "execution_count": 65,
   "id": "d734c054-36f8-485b-9e7e-63e0eb7a082e",
   "metadata": {},
   "outputs": [
    {
     "data": {
      "text/plain": [
       "12"
      ]
     },
     "execution_count": 65,
     "metadata": {},
     "output_type": "execute_result"
    }
   ],
   "source": [
    "array3.size"
   ]
  },
  {
   "cell_type": "code",
   "execution_count": 66,
   "id": "6ff64e79-3759-4dbc-95ab-a177a4f73d3f",
   "metadata": {},
   "outputs": [
    {
     "data": {
      "text/plain": [
       "3"
      ]
     },
     "execution_count": 66,
     "metadata": {},
     "output_type": "execute_result"
    }
   ],
   "source": [
    "array3.ndim"
   ]
  },
  {
   "cell_type": "code",
   "execution_count": 67,
   "id": "b08f70fd-1bdf-48e2-b91b-b201e094f33c",
   "metadata": {},
   "outputs": [
    {
     "name": "stdout",
     "output_type": "stream",
     "text": [
      "[[[ 1  2  3]\n",
      "  [ 4  5  6]\n",
      "  [ 7  8  9]\n",
      "  [10 11 12]]]\n"
     ]
    }
   ],
   "source": [
    "print(array3)"
   ]
  },
  {
   "cell_type": "code",
   "execution_count": 68,
   "id": "b0ec74e4-7a93-4b2f-8aa5-63bea8b042fe",
   "metadata": {},
   "outputs": [
    {
     "data": {
      "text/plain": [
       "(1, 4, 3)"
      ]
     },
     "execution_count": 68,
     "metadata": {},
     "output_type": "execute_result"
    }
   ],
   "source": [
    "array3.shape"
   ]
  },
  {
   "cell_type": "markdown",
   "id": "e52234f1-1ebe-4b7c-90e0-530f46bf928a",
   "metadata": {},
   "source": [
    " Numpy fonksiyonu kullanarak bir, iki ve üç boyutlu arrayler oluşturulur. Arrayler üzerinde indexleme ve dilimleme(slicing) işlemi yapılır "
   ]
  },
  {
   "cell_type": "code",
   "execution_count": 69,
   "id": "635d454e-485b-4ee8-b798-b4995777d1b9",
   "metadata": {},
   "outputs": [
    {
     "data": {
      "text/plain": [
       "array([[ 1,  2,  3,  4,  5],\n",
       "       [ 6,  7,  8,  9, 10]])"
      ]
     },
     "execution_count": 69,
     "metadata": {},
     "output_type": "execute_result"
    }
   ],
   "source": [
    "array2"
   ]
  },
  {
   "cell_type": "code",
   "execution_count": 70,
   "id": "c0c25a08-661f-45b6-838e-460b1b8a7fa2",
   "metadata": {},
   "outputs": [
    {
     "data": {
      "text/plain": [
       "array([[[ 1,  2,  3],\n",
       "        [ 4,  5,  6],\n",
       "        [ 7,  8,  9],\n",
       "        [10, 11, 12]]])"
      ]
     },
     "execution_count": 70,
     "metadata": {},
     "output_type": "execute_result"
    }
   ],
   "source": [
    "array3"
   ]
  },
  {
   "cell_type": "code",
   "execution_count": 71,
   "id": "d60821f6-05e9-4e0b-9f3d-f80320c23d72",
   "metadata": {},
   "outputs": [
    {
     "data": {
      "text/plain": [
       "4"
      ]
     },
     "execution_count": 71,
     "metadata": {},
     "output_type": "execute_result"
    }
   ],
   "source": [
    "array2 [0,3]"
   ]
  },
  {
   "cell_type": "code",
   "execution_count": 75,
   "id": "0055411f-36d8-43b4-99f3-cb92ecbfbc07",
   "metadata": {},
   "outputs": [
    {
     "data": {
      "text/plain": [
       "6"
      ]
     },
     "execution_count": 75,
     "metadata": {},
     "output_type": "execute_result"
    }
   ],
   "source": [
    "array3 [0,1,2]"
   ]
  },
  {
   "cell_type": "code",
   "execution_count": 82,
   "id": "b8afc774-0552-4210-bc1a-6a3db2399513",
   "metadata": {},
   "outputs": [
    {
     "data": {
      "text/plain": [
       "array([6, 7])"
      ]
     },
     "execution_count": 82,
     "metadata": {},
     "output_type": "execute_result"
    }
   ],
   "source": [
    "array2 [1,:2]"
   ]
  },
  {
   "cell_type": "code",
   "execution_count": 83,
   "id": "cb847121-67ac-4ffa-830d-a132c42bafd4",
   "metadata": {},
   "outputs": [
    {
     "data": {
      "text/plain": [
       "array([7, 8, 9])"
      ]
     },
     "execution_count": 83,
     "metadata": {},
     "output_type": "execute_result"
    }
   ],
   "source": [
    "array3 [0,2,:3]"
   ]
  },
  {
   "cell_type": "code",
   "execution_count": 84,
   "id": "5d1896ed-bc7f-44b3-8150-a9830b75d999",
   "metadata": {},
   "outputs": [
    {
     "data": {
      "text/plain": [
       "array([[ 2,  3],\n",
       "       [ 5,  6],\n",
       "       [ 8,  9],\n",
       "       [11, 12]])"
      ]
     },
     "execution_count": 84,
     "metadata": {},
     "output_type": "execute_result"
    }
   ],
   "source": [
    "array3[0, :, 1:3]"
   ]
  },
  {
   "cell_type": "markdown",
   "id": "5b66107f-9751-40fe-89cc-5765555c8f4a",
   "metadata": {},
   "source": [
    "Sıfırlardan oluşan ve birlerden oluşan iki tane iki boyutlu array oluşturulur. Bu arrayler satır ve sütun bazında birleştirilir. "
   ]
  },
  {
   "cell_type": "code",
   "execution_count": 87,
   "id": "44231704-89e1-4fef-b266-a4db5fbd341a",
   "metadata": {},
   "outputs": [
    {
     "name": "stdout",
     "output_type": "stream",
     "text": [
      "[[0 0 0]\n",
      " [0 0 0]\n",
      " [1 1 1]\n",
      " [1 1 1]]\n"
     ]
    }
   ],
   "source": [
    "#concatenate: dizileri belirli bir eksende birleştiren fonksiyondur\n",
    "#axis=0: Satırlar boyunca birleştirir (dikey).\n",
    "#axis=1: Sütunlar boyunca birleştirir (yatay).\n",
    "arr1=([[0,0,0],[0,0,0]])\n",
    "arr2=([[1,1,1],[1,1,1]])\n",
    "\n",
    "print(np.concatenate([arr1,arr2]))"
   ]
  },
  {
   "cell_type": "code",
   "execution_count": 88,
   "id": "a77a56e0-1f84-4c29-a1d3-e4ab019bc3d8",
   "metadata": {},
   "outputs": [
    {
     "name": "stdout",
     "output_type": "stream",
     "text": [
      "[[0 0 0 1 1 1]\n",
      " [0 0 0 1 1 1]]\n"
     ]
    }
   ],
   "source": [
    "print(np.concatenate([arr1,arr2], axis=1))"
   ]
  }
 ],
 "metadata": {
  "kernelspec": {
   "display_name": "Python 3 (ipykernel)",
   "language": "python",
   "name": "python3"
  },
  "language_info": {
   "codemirror_mode": {
    "name": "ipython",
    "version": 3
   },
   "file_extension": ".py",
   "mimetype": "text/x-python",
   "name": "python",
   "nbconvert_exporter": "python",
   "pygments_lexer": "ipython3",
   "version": "3.12.4"
  }
 },
 "nbformat": 4,
 "nbformat_minor": 5
}
