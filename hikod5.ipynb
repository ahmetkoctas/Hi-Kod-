{
 "cells": [
  {
   "cell_type": "markdown",
   "id": "6d71791c-b1aa-4abd-875e-07f52ba96497",
   "metadata": {},
   "source": [
    "Bir sözlük oluşturulur ve bu sözlükte öğrencilerin isimleri ve Matematik, Fizik, Kimya notları tutulur. Kullanıcıdan isim ve ders ismi(Matematik, Fizik, Kimya) istenir ve bu bilgilere göre çıktı verilir."
   ]
  },
  {
   "cell_type": "code",
   "execution_count": 1,
   "id": "d95e8f36-4f43-435c-a95d-2377e06f85f3",
   "metadata": {},
   "outputs": [
    {
     "name": "stdin",
     "output_type": "stream",
     "text": [
      "Lütfen isim giriniz:  Ahmet\n",
      "Lütfen ders seçiniz(Matemetik, Fizik, Kimya):  Fizik\n"
     ]
    },
    {
     "name": "stdout",
     "output_type": "stream",
     "text": [
      "Ahmet adlı öğrencinin Fizik notu: 100\n"
     ]
    }
   ],
   "source": [
    "ogrenciler = {\n",
    "    'Ahmet': {'Matematik': 90, 'Fizik': 100, 'Kimya': 80},\n",
    "    'Murat': {'Matematik': 85, 'Fizik': 85, 'Kimya': 75},\n",
    "    'Erkam': {'Matematik': 95, 'Fizik': 92, 'Kimya': 89}\n",
    "}\n",
    "isim= input(\"Lütfen isim giriniz: \")\n",
    "ders= input(\"Lütfen ders seçiniz(Matemetik, Fizik, Kimya): \")\n",
    "\n",
    "if isim in ogrenciler and ders in ogrenciler [isim]: \n",
    "    notu = ogrenciler[isim][ders]\n",
    "    print(f\"{isim} adlı öğrencinin {ders} notu: {notu}\")\n",
    "else :\n",
    "    print(\"Bulunamadı.\")"
   ]
  },
  {
   "cell_type": "markdown",
   "id": "6a32237a-e61b-442f-a7bd-98ac9055685f",
   "metadata": {},
   "source": [
    "Sözlük üzerinde değerleri değiştirme, yeni değer ekleme, kullanıcıya ulaşmak istediği bilgileri sorma gibi uygulamalar yapın."
   ]
  },
  {
   "cell_type": "code",
   "execution_count": 11,
   "id": "c8d25ed4-329b-45f1-9820-0342df898258",
   "metadata": {},
   "outputs": [
    {
     "data": {
      "text/plain": [
       "{'Ahmet': {'Matematik': 90, 'Fizik': 100, 'Kimya': 90},\n",
       " 'Murat': {'Matematik': 85, 'Fizik': 85, 'Kimya': 75},\n",
       " 'Erkam': {'Matematik': 95, 'Fizik': 92, 'Kimya': 89}}"
      ]
     },
     "execution_count": 11,
     "metadata": {},
     "output_type": "execute_result"
    }
   ],
   "source": [
    "#Değer değiştirme\n",
    "ogrenciler[\"Ahmet\"][\"Kimya\"] = 90\n",
    "ogrenciler"
   ]
  },
  {
   "cell_type": "code",
   "execution_count": 14,
   "id": "d918f1dd-67ae-4145-b4ac-b780ee20f88d",
   "metadata": {},
   "outputs": [
    {
     "data": {
      "text/plain": [
       "{'Ahmet': {'Matematik': 90, 'Fizik': 100, 'Kimya': 90},\n",
       " 'Murat': {'Matematik': 85, 'Fizik': 85, 'Kimya': 75},\n",
       " 'Erkam': {'Matematik': 95, 'Fizik': 92, 'Kimya': 89},\n",
       " 'Yılmaz': {'Matematik': 95, 'Fizik': 75, 'Kimya': 100}}"
      ]
     },
     "execution_count": 14,
     "metadata": {},
     "output_type": "execute_result"
    }
   ],
   "source": [
    "#Yeni değer ekleme\n",
    "ogrenciler[\"Yılmaz\"] = {\"Matematik\": 95, \"Fizik\": 75, \"Kimya\": 100}\n",
    "ogrenciler"
   ]
  },
  {
   "cell_type": "code",
   "execution_count": 20,
   "id": "75e9886d-0e65-44c5-9e20-490dccc67da9",
   "metadata": {},
   "outputs": [
    {
     "name": "stdin",
     "output_type": "stream",
     "text": [
      "Notunu öğrenmek istediğniz kişinin ismini giriniz:  Ahmet\n"
     ]
    },
    {
     "data": {
      "text/plain": [
       "{'Matematik': 90, 'Fizik': 100, 'Kimya': 90}"
      ]
     },
     "execution_count": 20,
     "metadata": {},
     "output_type": "execute_result"
    }
   ],
   "source": [
    "#Spesifik bilgilere ulaşma\n",
    "isim = input(\"Notunu öğrenmek istediğniz kişinin ismini giriniz: \")\n",
    "ogrenciler[isim]"
   ]
  },
  {
   "cell_type": "code",
   "execution_count": 19,
   "id": "a95dc6bd-39fd-4b95-8dfb-bf394a5a3e9f",
   "metadata": {},
   "outputs": [
    {
     "name": "stdin",
     "output_type": "stream",
     "text": [
      "Notunu öğrenmek istediğniz kişinin ismini giriniz:  Murat\n",
      "Öğrenmek istediğiniz dersi giriniz:  Matematik\n"
     ]
    },
    {
     "data": {
      "text/plain": [
       "85"
      ]
     },
     "execution_count": 19,
     "metadata": {},
     "output_type": "execute_result"
    }
   ],
   "source": [
    "isim = input(\"Notunu öğrenmek istediğniz kişinin ismini giriniz: \")\n",
    "ders = input(\"Öğrenmek istediğiniz dersi giriniz: \") \n",
    "ogrenciler[isim][ders]"
   ]
  }
 ],
 "metadata": {
  "kernelspec": {
   "display_name": "Python 3 (ipykernel)",
   "language": "python",
   "name": "python3"
  },
  "language_info": {
   "codemirror_mode": {
    "name": "ipython",
    "version": 3
   },
   "file_extension": ".py",
   "mimetype": "text/x-python",
   "name": "python",
   "nbconvert_exporter": "python",
   "pygments_lexer": "ipython3",
   "version": "3.12.4"
  }
 },
 "nbformat": 4,
 "nbformat_minor": 5
}
