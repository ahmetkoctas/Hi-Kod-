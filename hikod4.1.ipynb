{
 "cells": [
  {
   "cell_type": "markdown",
   "id": "363b7646-d80a-4cd4-ae98-260a34189af0",
   "metadata": {},
   "source": [
    "\"3\" değerine ulaşmak için indexleme yapın.\r\n",
    "\r\n",
    "\"Hi-Kod\" değerine ulaşmak için indexleme yapın.\r\n",
    "\r\n",
    "4.7 değerine ulaşmak için indexleme yapın.\r\n",
    "\r\n",
    "9,\"3\",8.4,\"Hi-Kod\" değerlerine ulaşmak için slicing yapın.\r\n",
    "\r\n",
    "8.4,\"Hi-Kod\",\"False\",4.7 değerlerine ulaşmak için slicin yapın.\n"
   ]
  },
  {
   "cell_type": "code",
   "execution_count": 6,
   "id": "2b48f7ea-97de-43b3-820b-532d0dafcc26",
   "metadata": {},
   "outputs": [],
   "source": [
    "liste = [\"Python\",True,9,\"3\",8.4,\"Hi-Kod\",\"False\",4.7]"
   ]
  },
  {
   "cell_type": "code",
   "execution_count": 11,
   "id": "78827974-3d78-4ed9-a895-7b69f289f169",
   "metadata": {},
   "outputs": [
    {
     "name": "stdout",
     "output_type": "stream",
     "text": [
      "3\n"
     ]
    }
   ],
   "source": [
    "deger_3 = liste[3]\n",
    "print (deger_3)"
   ]
  },
  {
   "cell_type": "code",
   "execution_count": 12,
   "id": "89b22e0c-7ffa-4660-a7f1-692db384958a",
   "metadata": {},
   "outputs": [
    {
     "name": "stdout",
     "output_type": "stream",
     "text": [
      "Hi-Kod\n"
     ]
    }
   ],
   "source": [
    "hi_kod = liste[5]\n",
    "print (hi_kod)"
   ]
  },
  {
   "cell_type": "code",
   "execution_count": 13,
   "id": "37c495ca-d90d-43e0-8fc0-ccc0ce02b9b4",
   "metadata": {},
   "outputs": [
    {
     "name": "stdout",
     "output_type": "stream",
     "text": [
      "4.7\n"
     ]
    }
   ],
   "source": [
    "deger4_7 = liste[7]\n",
    "print (deger4_7)"
   ]
  },
  {
   "cell_type": "code",
   "execution_count": 14,
   "id": "f0c51f60-c193-4de4-ac31-7b840c8f0970",
   "metadata": {},
   "outputs": [
    {
     "name": "stdout",
     "output_type": "stream",
     "text": [
      "[9, '3', 8.4, 'Hi-Kod']\n"
     ]
    }
   ],
   "source": [
    "slicing_1 = liste[2:6]\n",
    "print (slicing_1)"
   ]
  },
  {
   "cell_type": "code",
   "execution_count": 15,
   "id": "e4f60c5e-6400-4df7-b52d-fd198354e75f",
   "metadata": {},
   "outputs": [
    {
     "name": "stdout",
     "output_type": "stream",
     "text": [
      "[8.4, 'Hi-Kod', 'False']\n"
     ]
    }
   ],
   "source": [
    "slicing_2 = liste[4:7]\n",
    "print (slicing_2)"
   ]
  },
  {
   "cell_type": "markdown",
   "id": "004b5644-6e30-42f4-9406-50f45b64e0f4",
   "metadata": {},
   "source": [
    "Verilen listede bulunan string veri tipindeki öğeleri yeni_liste isimli listeye eklenir."
   ]
  },
  {
   "cell_type": "code",
   "execution_count": 16,
   "id": "71095cc6-079d-413a-b9d2-788243c98147",
   "metadata": {},
   "outputs": [],
   "source": [
    "liste = [\"Python\",True,9,\"3\",8.4,\"Hi-Kod\",\"False\",4.7]"
   ]
  },
  {
   "cell_type": "code",
   "execution_count": 22,
   "id": "e0236a4b-e850-4656-acb3-7260e4d878ce",
   "metadata": {},
   "outputs": [
    {
     "name": "stdout",
     "output_type": "stream",
     "text": [
      "['Python', '3', 'Hi-Kod', 'False']\n"
     ]
    }
   ],
   "source": [
    "yeni_liste = []\n",
    "for eleman in liste :\n",
    "    if type(eleman) == type (\"string\"):\n",
    "        yeni_liste.append (eleman)\n",
    "print (yeni_liste) "
   ]
  },
  {
   "cell_type": "markdown",
   "id": "d7083e98-986f-4808-8c60-2ee7e9fedeff",
   "metadata": {},
   "source": [
    "Enumerate methodunu araştırın ve aşağıdaki örneği enumerate methodu ile yapın.\n",
    "\n",
    "for index in range(len(meyveler)):\n",
    "\n",
    "    print(\"{}. indexte bulunan meyve: {}\".format(index,meyveler[index])"
   ]
  },
  {
   "cell_type": "code",
   "execution_count": 26,
   "id": "cdae1adf-4e28-4160-93d6-bb3cb468e3f0",
   "metadata": {},
   "outputs": [
    {
     "name": "stdout",
     "output_type": "stream",
     "text": [
      "0. indexte bulunan meyve: elma\n",
      "1. indexte bulunan meyve: armut\n",
      "2. indexte bulunan meyve: muz\n",
      "3. indexte bulunan meyve: çilek\n",
      "4. indexte bulunan meyve: ayva\n",
      "5. indexte bulunan meyve: kiraz\n"
     ]
    }
   ],
   "source": [
    "meyveler=[\"elma\",\"armut\",\"muz\",\"çilek\",\"ayva\",\"kiraz\"]\n",
    "for index, meyve in enumerate (meyveler) :\n",
    "    print (\"{}. indexte bulunan meyve: {}\".format(index, meyve))"
   ]
  }
 ],
 "metadata": {
  "kernelspec": {
   "display_name": "Python 3 (ipykernel)",
   "language": "python",
   "name": "python3"
  },
  "language_info": {
   "codemirror_mode": {
    "name": "ipython",
    "version": 3
   },
   "file_extension": ".py",
   "mimetype": "text/x-python",
   "name": "python",
   "nbconvert_exporter": "python",
   "pygments_lexer": "ipython3",
   "version": "3.12.4"
  }
 },
 "nbformat": 4,
 "nbformat_minor": 5
}
