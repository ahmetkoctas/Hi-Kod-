{
 "cells": [
  {
   "cell_type": "markdown",
   "id": "a555b002-69df-4b27-9204-c86fddd34bf2",
   "metadata": {},
   "source": [
    "Ödev-1: Değişkenlere atanmış değerlerin veri tipleri arasında dönüşüm yapılır."
   ]
  },
  {
   "cell_type": "markdown",
   "id": "6f94a5b8-3880-4939-85be-6382b71cfca2",
   "metadata": {},
   "source": [
    "x = 3 ----> floata çevirelim. .\n",
    "y = 4.5 -----> integere çevirelim. \n",
    "z = \"8\" -----> integera çevirelim. \n",
    "a = \"12\" -----> floata çevirelim. \n",
    "b = \"46.8\" ------> integera çevirelim. "
   ]
  },
  {
   "cell_type": "code",
   "execution_count": 13,
   "id": "4bab700a-4f31-4291-b552-48b9456f8f8b",
   "metadata": {},
   "outputs": [
    {
     "data": {
      "text/plain": [
       "3.0"
      ]
     },
     "execution_count": 13,
     "metadata": {},
     "output_type": "execute_result"
    }
   ],
   "source": [
    "x=3\n",
    "float(x)"
   ]
  },
  {
   "cell_type": "code",
   "execution_count": 6,
   "id": "dd934cde-29c8-4a51-b3ff-cbe5abf04d8d",
   "metadata": {},
   "outputs": [
    {
     "data": {
      "text/plain": [
       "4"
      ]
     },
     "execution_count": 6,
     "metadata": {},
     "output_type": "execute_result"
    }
   ],
   "source": [
    "y=4.5\n",
    "int(y)"
   ]
  },
  {
   "cell_type": "code",
   "execution_count": 11,
   "id": "2a98c578-f639-4a48-9be2-0bed09a86af4",
   "metadata": {},
   "outputs": [
    {
     "data": {
      "text/plain": [
       "8"
      ]
     },
     "execution_count": 11,
     "metadata": {},
     "output_type": "execute_result"
    }
   ],
   "source": [
    "z=\"8\"\n",
    "int(z)"
   ]
  },
  {
   "cell_type": "code",
   "execution_count": 10,
   "id": "6d013115-5624-440b-aa5f-0c7c773316af",
   "metadata": {},
   "outputs": [
    {
     "data": {
      "text/plain": [
       "12.0"
      ]
     },
     "execution_count": 10,
     "metadata": {},
     "output_type": "execute_result"
    }
   ],
   "source": [
    "a=\"12\"\n",
    "float(a)"
   ]
  },
  {
   "cell_type": "code",
   "execution_count": 12,
   "id": "5a885afc-c6e3-4397-8993-99cec3ac1628",
   "metadata": {},
   "outputs": [
    {
     "data": {
      "text/plain": [
       "46"
      ]
     },
     "execution_count": 12,
     "metadata": {},
     "output_type": "execute_result"
    }
   ],
   "source": [
    "b=\"46.8\"\n",
    "int(float(b))"
   ]
  },
  {
   "cell_type": "markdown",
   "id": "a26c7aa7-3b30-40e1-b3a9-f58fa0b0c28a",
   "metadata": {},
   "source": [
    "Ödev-2: İsimlerden oluşan üç değişkene yaş değerleri atanır. Belirlenen üç değişken birbiriyle karşılaştırma operatörleri ile karşılaştırılır. Bu karşılaştırmalara mantıksal operatörler de eklenir."
   ]
  },
  {
   "cell_type": "code",
   "execution_count": 6,
   "id": "a2ff1aad-45b4-494b-b722-b5a6ce1a04d7",
   "metadata": {},
   "outputs": [],
   "source": [
    "ahmet=20\n",
    "murat=23\n",
    "erkam=21"
   ]
  },
  {
   "cell_type": "code",
   "execution_count": 7,
   "id": "d0d9d1a0-0754-452b-b72b-07ce1be50e1e",
   "metadata": {},
   "outputs": [
    {
     "data": {
      "text/plain": [
       "True"
      ]
     },
     "execution_count": 7,
     "metadata": {},
     "output_type": "execute_result"
    }
   ],
   "source": [
    "murat>ahmet"
   ]
  },
  {
   "cell_type": "code",
   "execution_count": 8,
   "id": "49b3cd82-fe27-4eb4-b926-1c2b7d6a2d0c",
   "metadata": {},
   "outputs": [
    {
     "data": {
      "text/plain": [
       "False"
      ]
     },
     "execution_count": 8,
     "metadata": {},
     "output_type": "execute_result"
    }
   ],
   "source": [
    "ahmet>erkam"
   ]
  },
  {
   "cell_type": "code",
   "execution_count": 9,
   "id": "eda52312-be0c-4a46-9bcf-fc0558e2439b",
   "metadata": {},
   "outputs": [
    {
     "data": {
      "text/plain": [
       "False"
      ]
     },
     "execution_count": 9,
     "metadata": {},
     "output_type": "execute_result"
    }
   ],
   "source": [
    "murat==erkam"
   ]
  },
  {
   "cell_type": "code",
   "execution_count": 10,
   "id": "b22e73c7-f351-41c0-b8a1-2042db103d58",
   "metadata": {},
   "outputs": [
    {
     "data": {
      "text/plain": [
       "True"
      ]
     },
     "execution_count": 10,
     "metadata": {},
     "output_type": "execute_result"
    }
   ],
   "source": [
    "erkam<murat"
   ]
  },
  {
   "cell_type": "code",
   "execution_count": 13,
   "id": "6c8867d2-591d-4b31-903f-5ce89ce940b2",
   "metadata": {},
   "outputs": [
    {
     "data": {
      "text/plain": [
       "True"
      ]
     },
     "execution_count": 13,
     "metadata": {},
     "output_type": "execute_result"
    }
   ],
   "source": [
    "ahmet!=murat"
   ]
  },
  {
   "cell_type": "code",
   "execution_count": 11,
   "id": "98b4e9c9-ed49-474b-afdf-86a6c8de0297",
   "metadata": {},
   "outputs": [
    {
     "data": {
      "text/plain": [
       "True"
      ]
     },
     "execution_count": 11,
     "metadata": {},
     "output_type": "execute_result"
    }
   ],
   "source": [
    "murat>ahmet and erkam<murat"
   ]
  },
  {
   "cell_type": "code",
   "execution_count": 12,
   "id": "f14e7138-8107-45b4-87af-6725df48a1a0",
   "metadata": {},
   "outputs": [
    {
     "data": {
      "text/plain": [
       "False"
      ]
     },
     "execution_count": 12,
     "metadata": {},
     "output_type": "execute_result"
    }
   ],
   "source": [
    "ahmet>erkam and murat>ahmet"
   ]
  },
  {
   "cell_type": "code",
   "execution_count": 14,
   "id": "27597a67-3771-4722-8a34-6afa33bd10cd",
   "metadata": {},
   "outputs": [
    {
     "data": {
      "text/plain": [
       "True"
      ]
     },
     "execution_count": 14,
     "metadata": {},
     "output_type": "execute_result"
    }
   ],
   "source": [
    "ahmet!=murat or erkam<murat"
   ]
  },
  {
   "cell_type": "markdown",
   "id": "c6f11ccd-ab98-42c5-8114-ff4fd19d6668",
   "metadata": {},
   "source": [
    "Ödev-3: Kullanıcıdan iki değer girmesini istenir. Girilen değerlerin toplama, çıkarma, çarpma, bölme sonuçlarını yazdırılır."
   ]
  },
  {
   "cell_type": "code",
   "execution_count": 15,
   "id": "f80ac6df-5986-4802-820c-684c4a9ee045",
   "metadata": {},
   "outputs": [
    {
     "name": "stdin",
     "output_type": "stream",
     "text": [
      "ilk sayıyı giriniz: 5\n",
      "ikinci sayıyı giriniz: 3\n"
     ]
    },
    {
     "name": "stdout",
     "output_type": "stream",
     "text": [
      "Toplama:  8\n",
      "Çıkarma:  2\n",
      "Çarpma:  15\n",
      "Bölme:  1.6666666666666667\n"
     ]
    }
   ],
   "source": [
    "sayi1= int(input(\"ilk sayıyı giriniz:\"))\n",
    "sayi2= int(input(\"ikinci sayıyı giriniz:\"))\n",
    "\n",
    "toplama= sayi1+sayi2\n",
    "cıkarma= sayi1-sayi2\n",
    "carpma= sayi1*sayi2\n",
    "bolme= sayi1/sayi2\n",
    "\n",
    "print(\"Toplama: \", toplama) \n",
    "print(\"Çıkarma: \", cıkarma) \n",
    "print(\"Çarpma: \", carpma) \n",
    "print(\"Bölme: \", bolme) \n"
   ]
  },
  {
   "cell_type": "markdown",
   "id": "1bf2e44f-387d-4a02-a0ab-ff2b47195c76",
   "metadata": {},
   "source": [
    "Ödev-4: Kullanıcıdan isim, yaş, şehir ve meslek bilgilerini istenir ve cevaplarını yazdırılır."
   ]
  },
  {
   "cell_type": "code",
   "execution_count": 28,
   "id": "b8f1e5eb-be16-4b06-aabf-a01f1e0945cc",
   "metadata": {},
   "outputs": [
    {
     "name": "stdin",
     "output_type": "stream",
     "text": [
      "Lütfen isminizi girin:  ahmet\n"
     ]
    }
   ],
   "source": [
    "isim= input(\"Lütfen isminizi girin: \")"
   ]
  },
  {
   "cell_type": "code",
   "execution_count": 29,
   "id": "fe878228-a944-48aa-abe0-3cc8638e1fc7",
   "metadata": {},
   "outputs": [
    {
     "name": "stdin",
     "output_type": "stream",
     "text": [
      "Lütfen yaşınızı girin:  20\n"
     ]
    }
   ],
   "source": [
    "yas= int(input(\"Lütfen yaşınızı girin: \"))"
   ]
  },
  {
   "cell_type": "code",
   "execution_count": 30,
   "id": "daf68da4-bd40-4d33-8bf7-c2a06d1b5c09",
   "metadata": {},
   "outputs": [
    {
     "name": "stdin",
     "output_type": "stream",
     "text": [
      "Lütfen yaşadığınız şehri girin:  osmaniye\n"
     ]
    }
   ],
   "source": [
    "sehir= input(\"Lütfen yaşadığınız şehri girin: \")"
   ]
  },
  {
   "cell_type": "code",
   "execution_count": 31,
   "id": "6c2dd56f-4204-4631-bea6-a467434b7dc1",
   "metadata": {},
   "outputs": [
    {
     "name": "stdin",
     "output_type": "stream",
     "text": [
      "Lütfen mesleğinizi girin:  öğrenci\n"
     ]
    }
   ],
   "source": [
    "meslek= input(\"Lütfen mesleğinizi girin: \")"
   ]
  },
  {
   "cell_type": "code",
   "execution_count": 32,
   "id": "4027465e-a016-44ad-aafc-dda24a16822b",
   "metadata": {},
   "outputs": [
    {
     "name": "stdout",
     "output_type": "stream",
     "text": [
      "İsim: ahmet\n",
      "Yaş: 20\n",
      "Şehir: osmaniye\n",
      "Meslek: öğrenci\n"
     ]
    }
   ],
   "source": [
    "print(\"İsim:\",isim)\n",
    "print(\"Yaş:\", yas)\n",
    "print(\"Şehir:\",sehir)\n",
    "print(\"Meslek:\",meslek)"
   ]
  },
  {
   "cell_type": "markdown",
   "id": "03c5b70b-dac6-41a9-bb74-40805eeb2a75",
   "metadata": {},
   "source": [
    "Ödev-5: \"Hi-Kod Veri Bilimi Atölyesi\" ifadesini bir değişkene tanımlanır.\r\n",
    "\r\n",
    "\r\n",
    " İfadedeki her bir kelimeyi (\"Hi-Kod\", \"Veri\", \"Bilimi\", \"Atölyesi\") değişken içinden seçilir. \r\n",
    " İfadeyi hepsini büyük harf olacak hale çevrilir. (\"HI-KOD VERİ BİLİMİ ATÖLYESİ\") \r\n",
    " İfadeyi hepsini büyük harf olacak hale çevrilir.(\"hi-kod veri bilimi atölyesi\") \r\n",
    "\r\n",
    "\"0123456789\" ifadesindeki yalnızca çift sayıları ve yalnızca tek sayıları seçilir. (\"02468\", \"13579\")"
   ]
  },
  {
   "cell_type": "code",
   "execution_count": 33,
   "id": "d9d66d75-7a14-445f-88bd-b6735b67e9b8",
   "metadata": {},
   "outputs": [],
   "source": [
    "atolye= \"Hi-Kod Veri Bilimi Atölyesi\""
   ]
  },
  {
   "cell_type": "code",
   "execution_count": 34,
   "id": "c239fdc5-64f7-4b31-8677-5e2296136886",
   "metadata": {},
   "outputs": [
    {
     "data": {
      "text/plain": [
       "['Hi-Kod', 'Veri', 'Bilimi', 'Atölyesi']"
      ]
     },
     "execution_count": 34,
     "metadata": {},
     "output_type": "execute_result"
    }
   ],
   "source": [
    "atolye.split()"
   ]
  },
  {
   "cell_type": "code",
   "execution_count": 35,
   "id": "7971e070-dd91-4cb0-881b-333d584c3e58",
   "metadata": {},
   "outputs": [
    {
     "data": {
      "text/plain": [
       "'HI-KOD VERI BILIMI ATÖLYESI'"
      ]
     },
     "execution_count": 35,
     "metadata": {},
     "output_type": "execute_result"
    }
   ],
   "source": [
    "atolye.upper()"
   ]
  },
  {
   "cell_type": "code",
   "execution_count": 36,
   "id": "ee7ebb8b-c5d1-4e8a-82cf-12870024b5e0",
   "metadata": {},
   "outputs": [
    {
     "data": {
      "text/plain": [
       "'hi-kod veri bilimi atölyesi'"
      ]
     },
     "execution_count": 36,
     "metadata": {},
     "output_type": "execute_result"
    }
   ],
   "source": [
    "atolye.lower()"
   ]
  },
  {
   "cell_type": "code",
   "execution_count": 39,
   "id": "91ca2154-b0bb-43fb-95d3-e06939fec22f",
   "metadata": {},
   "outputs": [],
   "source": [
    "sayilar= [0,1,2,3,4,5,6,7,8,9]"
   ]
  },
  {
   "cell_type": "code",
   "execution_count": 40,
   "id": "e18dfbff-8c74-47a3-8930-be6813b7fa30",
   "metadata": {},
   "outputs": [
    {
     "data": {
      "text/plain": [
       "[0, 2, 4, 6, 8]"
      ]
     },
     "execution_count": 40,
     "metadata": {},
     "output_type": "execute_result"
    }
   ],
   "source": [
    "sayilar [0:9:2]"
   ]
  },
  {
   "cell_type": "code",
   "execution_count": 41,
   "id": "1835e485-dd52-4abd-9558-f7eb2a012cc4",
   "metadata": {},
   "outputs": [
    {
     "data": {
      "text/plain": [
       "[1, 3, 5, 7]"
      ]
     },
     "execution_count": 41,
     "metadata": {},
     "output_type": "execute_result"
    }
   ],
   "source": [
    "sayilar [1:9:2]"
   ]
  }
 ],
 "metadata": {
  "kernelspec": {
   "display_name": "Python 3 (ipykernel)",
   "language": "python",
   "name": "python3"
  },
  "language_info": {
   "codemirror_mode": {
    "name": "ipython",
    "version": 3
   },
   "file_extension": ".py",
   "mimetype": "text/x-python",
   "name": "python",
   "nbconvert_exporter": "python",
   "pygments_lexer": "ipython3",
   "version": "3.12.4"
  }
 },
 "nbformat": 4,
 "nbformat_minor": 5
}
